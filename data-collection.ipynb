{
 "cells": [
  {
   "cell_type": "code",
   "execution_count": 1,
   "metadata": {},
   "outputs": [],
   "source": [
    "import requests\n",
    "import json"
   ]
  },
  {
   "cell_type": "code",
   "execution_count": 2,
   "metadata": {},
   "outputs": [],
   "source": [
    "url = 'https://openapi.etsy.com/v2/listings/active?'\n",
    "# function that run api and aggregate data\n",
    "def run_api(limit):\n",
    "    result_df = []\n",
    "    for offset in range(0,10001,limit):\n",
    "        params = {'api_key': 'psdek79lw8m1lllmojltonza', 'tags': ['painting'], 'limit':limit, 'offset':offset}\n",
    "        response = requests.get(url = url, params = params)\n",
    "        if response.status_code != 200:\n",
    "            print(\"Error\")\n",
    "        listing = response.json()\n",
    "        results = listing['results']\n",
    "        result_df.extend(results)\n",
    "    return result_df"
   ]
  },
  {
   "cell_type": "code",
   "execution_count": 3,
   "metadata": {},
   "outputs": [
    {
     "data": {
      "text/plain": [
       "10100"
      ]
     },
     "execution_count": 3,
     "metadata": {},
     "output_type": "execute_result"
    }
   ],
   "source": [
    "limit = 100\n",
    "df = run_api(limit)\n",
    "len(df)"
   ]
  },
  {
   "cell_type": "code",
   "execution_count": 4,
   "metadata": {},
   "outputs": [],
   "source": [
    "with open('etsy-painting-listings.json', 'w', encoding='utf-8') as f:\n",
    "    json.dump(df, f, ensure_ascii=False, indent=4)"
   ]
  }
 ],
 "metadata": {
  "kernelspec": {
   "display_name": "Python 3",
   "language": "python",
   "name": "python3"
  },
  "language_info": {
   "codemirror_mode": {
    "name": "ipython",
    "version": 3
   },
   "file_extension": ".py",
   "mimetype": "text/x-python",
   "name": "python",
   "nbconvert_exporter": "python",
   "pygments_lexer": "ipython3",
   "version": "3.7.6"
  }
 },
 "nbformat": 4,
 "nbformat_minor": 4
}
